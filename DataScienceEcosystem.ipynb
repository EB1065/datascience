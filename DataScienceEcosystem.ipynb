{
 "cells": [
  {
   "cell_type": "markdown",
   "id": "55169c1b-efee-4d34-8d22-95334190489a",
   "metadata": {},
   "source": [
    "# Data Science Tools and Ecosystem"
   ]
  },
  {
   "cell_type": "markdown",
   "id": "d6d721ee-9613-40f1-9c04-34ae68b403e1",
   "metadata": {},
   "source": [
    "In this notebook, Data Science Tools and Ecosystem are summarized."
   ]
  },
  {
   "cell_type": "markdown",
   "id": "1a40e06b-4594-42a6-9d9a-6a4f9222b0b2",
   "metadata": {},
   "source": [
    "**Objectives:**\n",
    "- List popular languages for Data Science\n",
    "- List popular libraries for Data Science\n",
    "- List Data Science Tools (Open Source)\n",
    "- Show some arithmetic coding examples"
   ]
  },
  {
   "cell_type": "markdown",
   "id": "0bbb2c14-39f5-480d-a60c-377349646e5d",
   "metadata": {},
   "source": [
    "Some of the popular languages that Data Scientists use are:\n",
    "1. Python\n",
    "2. R\n",
    "3. Scala\n",
    "4. Julia"
   ]
  },
  {
   "cell_type": "markdown",
   "id": "05e03bc3-ea5f-4a80-b161-7f85cab2da3d",
   "metadata": {},
   "source": [
    "Some of the commonly used libraries used by Data Scientists include:\n",
    "1. numpy (Python)\n",
    "2. pandas (Python)\n",
    "3. tensorflow (Python)\n",
    "4. ggplot (R)\n",
    "5. caret (R)"
   ]
  },
  {
   "cell_type": "markdown",
   "id": "ed316005-2828-4b80-94cf-14d5aa1ddc1c",
   "metadata": {},
   "source": [
    "| Data Science Tools |\n",
    "| ------------------ |\n",
    "| Hadoop |\n",
    "| RStudio |\n",
    "| GitHub |"
   ]
  },
  {
   "cell_type": "markdown",
   "id": "68c9ee0c-b4bd-4d30-9fc0-ab0ad2fcb551",
   "metadata": {},
   "source": [
    "### A few examples of evaluating arithmetic expressions in Python"
   ]
  },
  {
   "cell_type": "code",
   "execution_count": 11,
   "id": "a8c46161-12c6-40b6-9fa4-b8e41617adee",
   "metadata": {},
   "outputs": [
    {
     "data": {
      "text/html": [
       "17"
      ],
      "text/latex": [
       "17"
      ],
      "text/markdown": [
       "17"
      ],
      "text/plain": [
       "[1] 17"
      ]
     },
     "metadata": {},
     "output_type": "display_data"
    }
   ],
   "source": [
    "# This a simple arithmetic expression to mutiply then add integers\n",
    "(3*4)+5"
   ]
  },
  {
   "cell_type": "code",
   "execution_count": 23,
   "id": "7100e2c2-6eb9-414f-a5f2-d78829eb8d9b",
   "metadata": {},
   "outputs": [
    {
     "name": "stdout",
     "output_type": "stream",
     "text": [
      "200 minutes equal 3.3 hours.\n"
     ]
    }
   ],
   "source": [
    "# This will convert 200 minutes to hours by diving by 60\n",
    "h = 200/60\n",
    "print(f\"200 minutes equal {h:.1f} hours.\")"
   ]
  },
  {
   "cell_type": "markdown",
   "id": "5cd6204a-2347-4f52-8ba9-b53e6fa2a8bc",
   "metadata": {},
   "source": [
    "## Author\n",
    "E. Bader"
   ]
  },
  {
   "cell_type": "code",
   "execution_count": null,
   "id": "8f396e76-0640-4cef-92da-4492f99bae8c",
   "metadata": {},
   "outputs": [],
   "source": []
  }
 ],
 "metadata": {
  "kernelspec": {
   "display_name": "Python [conda env:R_env]",
   "language": "python",
   "name": "conda-env-R_env-py"
  },
  "language_info": {
   "codemirror_mode": {
    "name": "ipython",
    "version": 3
   },
   "file_extension": ".py",
   "mimetype": "text/x-python",
   "name": "python",
   "nbconvert_exporter": "python",
   "pygments_lexer": "ipython3",
   "version": "3.8.2"
  }
 },
 "nbformat": 4,
 "nbformat_minor": 5
}
